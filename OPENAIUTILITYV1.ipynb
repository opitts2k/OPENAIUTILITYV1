{
 "cells": [
  {
   "cell_type": "code",
   "execution_count": 1,
   "id": "4ec1e096",
   "metadata": {},
   "outputs": [
    {
     "name": "stderr",
     "output_type": "stream",
     "text": [
      "Enabling notebook extension jupyter-js-widgets/extension...\n",
      "      - Validating: ok\n",
      "Enabling: voila\n",
      "- Writing config: C:\\Python310\\etc\\jupyter\n",
      "    - Validating...\n",
      "      voila 0.4.0 ok\n"
     ]
    }
   ],
   "source": [
    "from ipyfilechooser import FileChooser\n",
    "import os\n",
    "# Create new FileChooser:\n",
    "# Path: current directory\n",
    "# File: test.txt\n",
    "# Title: <b>FileChooser example</b>\n",
    "# Show hidden files: no\n",
    "# Use the default path and filename as selection: yes\n",
    "# Only show folders: no\n",
    "#fdialog2.default_path = os.path.abspath('.\\Store')\n",
    "#fdialog2.default_filename = 'chroma-embeddings.parquet'\n",
    "\n",
    "import json\n",
    "import configparser\n",
    "# Import libraries\n",
    "import speech_recognition as sr\n",
    "\n",
    "from pydub import AudioSegment\n",
    "from pydub.silence import split_on_silence\n",
    "#import whisper\n",
    "#import warnings\n",
    "#warnings.filterwarnings('ignore')\n",
    "from langchain.chains.question_answering import load_qa_chain\n",
    "from langchain.document_loaders import UnstructuredFileLoader\n",
    "from langchain.chains.summarize import load_summarize_chain\n",
    "from langchain.document_loaders import UnstructuredPDFLoader, OnlinePDFLoader\n",
    "from langchain.text_splitter import RecursiveCharacterTextSplitter\n",
    "from langchain.document_loaders import PyPDFLoader\n",
    "from langchain.embeddings.openai import OpenAIEmbeddings\n",
    "from langchain.chains import RetrievalQA\n",
    "from langchain import OpenAI, VectorDBQA\n",
    "from langchain.vectorstores import Chroma\n",
    "from langchain.text_splitter import CharacterTextSplitter\n",
    "from langchain.document_loaders import DirectoryLoader\n",
    "from langchain.embeddings.openai import OpenAIEmbeddings\n",
    "readKey = configparser.ConfigParser()\n",
    "readKey.read_file(open('c:\\\\Store\\\\apidata.config'))\n",
    "org = readKey[\"OPENAI\"][\"ORG\"]\n",
    "key = readKey[\"OPENAI\"][\"KEY\"]\n",
    "os.environ['OPENAI_API_KEY'] = key\n",
    "#nltk.download('averaged_perceptron_tagger')\n",
    "import pandas as pd\n",
    "import pyarrow.parquet as pq\n",
    "import pyarrow as pa\n",
    "import duckdb\n",
    "import magic\n",
    "import os\n",
    "import nltk\n",
    "import ipywidgets as widgets\n",
    "from  IPython.display import display, clear_output\n",
    "from ipywidgets import Textarea\n",
    "\n",
    "\n",
    "fdialog = FileChooser(f'{os.getcwd()}') \n",
    "\n",
    "def update_my_fname():\n",
    "    global my_fname\n",
    "    my_fname = fdialog.selected\n",
    "    return  \n",
    "\n",
    "# bind FileChooser to callback\n",
    "fdialog.register_callback(update_my_fname)\n",
    "\n",
    "fdialog2 = FileChooser(f'{os.getcwd()}') \n",
    "\n",
    "def update_my_fname():\n",
    "    global my_fname2\n",
    "    my_fname2 = fdialog2.selected\n",
    "    return  \n",
    "\n",
    "# bind FileChooser to callback\n",
    "fdialog2.register_callback(update_my_fname)\n",
    "\n",
    "!jupyter nbextension enable --py widgetsnbextension --sys-prefix\n",
    "!jupyter serverextension enable voila --sys-prefix\n",
    "\n",
    "from ipywidgets import Textarea\n",
    "\n",
    "\n"
   ]
  },
  {
   "cell_type": "code",
   "execution_count": 2,
   "id": "b5770b79",
   "metadata": {},
   "outputs": [
    {
     "data": {
      "application/vnd.jupyter.widget-view+json": {
       "model_id": "1cc3509f57b4423f85dab8ef981cc72f",
       "version_major": 2,
       "version_minor": 0
      },
      "text/plain": [
       "FileUpload(value=(), accept='*.pdf', description='Upload', multiple=True)"
      ]
     },
     "metadata": {},
     "output_type": "display_data"
    }
   ],
   "source": [
    "from ipywidgets import FileUpload\n",
    "uploader = widgets.FileUpload(\n",
    "accept ='*.pdf', multiple = True\n",
    ")\n",
    "\n",
    "display(uploader)\n"
   ]
  },
  {
   "cell_type": "code",
   "execution_count": 3,
   "id": "3ee1f13f",
   "metadata": {},
   "outputs": [
    {
     "data": {
      "application/vnd.jupyter.widget-view+json": {
       "model_id": "77f029485cd44074bc0bd0ac726603d6",
       "version_major": 2,
       "version_minor": 0
      },
      "text/plain": [
       "FileUpload(value=(), accept='*.csv', description='Upload')"
      ]
     },
     "metadata": {},
     "output_type": "display_data"
    }
   ],
   "source": [
    "import ipywidgets as widgets\n",
    "widgets.IntSlider()\n",
    "from IPython.display import display\n",
    "w = widgets.IntSlider()\n",
    "uploader = widgets.FileUpload(\n",
    "    accept='*.csv',  # Accepted file extension e.g. '.txt', '.pdf', 'image/*', 'image/*,.pdf'\n",
    "    multiple=False  # True to accept multiple files upload else False\n",
    ")\n",
    "\n",
    "display(uploader)"
   ]
  },
  {
   "cell_type": "code",
   "execution_count": null,
   "id": "7c0c9c11",
   "metadata": {},
   "outputs": [],
   "source": []
  },
  {
   "cell_type": "code",
   "execution_count": 4,
   "id": "4b56da17",
   "metadata": {},
   "outputs": [],
   "source": [
    "fdialog2.selected"
   ]
  },
  {
   "cell_type": "code",
   "execution_count": 5,
   "id": "1552ffe0",
   "metadata": {},
   "outputs": [],
   "source": [
    "fdialog.selected"
   ]
  },
  {
   "cell_type": "code",
   "execution_count": 6,
   "id": "8229ba5a",
   "metadata": {},
   "outputs": [],
   "source": [
    "# Callback example\n",
    "def change_title(chooser):\n",
    "    chooser.title = '<b>Callback function executed</b>'\n",
    "\n",
    "# Register callback function\n",
    "fdialog.register_callback(change_title)\n",
    "fdialog2.register_callback(change_title)"
   ]
  },
  {
   "cell_type": "code",
   "execution_count": 7,
   "id": "2c512226",
   "metadata": {},
   "outputs": [],
   "source": [
    "# Set or change the title\n",
    "fdialog.title = '<b>Select the output file</b>'\n",
    "fdialog2.title = '<b>Select the output file</b>'"
   ]
  },
  {
   "cell_type": "code",
   "execution_count": 8,
   "id": "c2a4a542",
   "metadata": {},
   "outputs": [],
   "source": [
    "# Change folder icon to `os.sep` and append it to the folder name\n",
    "fdialog.dir_icon = os.sep\n",
    "fdialog.dir_icon_append = True\n",
    "fdialog2.dir_icon = os.sep\n",
    "fdialog2.dir_icon_append = True"
   ]
  },
  {
   "cell_type": "code",
   "execution_count": 9,
   "id": "312d0752",
   "metadata": {},
   "outputs": [],
   "source": [
    "# Show hidden files, change rows to 10, and hide folder icons\n",
    "fdialog.show_hidden = True\n",
    "fdialog.rows = 10\n",
    "fdialog.dir_icon = None\n",
    "fdialog2.show_hidden = True\n",
    "fdialog2.rows = 10\n",
    "fdialog2.dir_icon = None"
   ]
  },
  {
   "cell_type": "code",
   "execution_count": 10,
   "id": "7cf7b81c",
   "metadata": {},
   "outputs": [],
   "source": [
    "# Restrict navigation\n",
    "#fdialog.sandbox_path = 'C:\\Python310\\Scripts\\ipyfilechooser-master\\jdoe'"
   ]
  },
  {
   "cell_type": "code",
   "execution_count": 11,
   "id": "555dae72",
   "metadata": {},
   "outputs": [],
   "source": [
    "# Switch to folder-only mode\n",
    "#fdialog.show_only_dirs = True\n",
    "#fdialog2.show_only_dirs = True"
   ]
  },
  {
   "cell_type": "code",
   "execution_count": 12,
   "id": "c09b2009",
   "metadata": {},
   "outputs": [],
   "source": [
    "# Switch back to standard mode\n",
    "#fdialog.show_only_dirs = False\n",
    "#fdialog2.show_only_dirs = False"
   ]
  },
  {
   "cell_type": "code",
   "execution_count": 13,
   "id": "28d7ad1d",
   "metadata": {},
   "outputs": [],
   "source": [
    "# Set a file filter pattern (uses https://docs.python.org/3/library/fnmatch.html)\n",
    "#fdialog.filter_pattern = '*.txt'"
   ]
  },
  {
   "cell_type": "code",
   "execution_count": 14,
   "id": "0674f811",
   "metadata": {},
   "outputs": [],
   "source": [
    "# Set multiple file filter patterns (uses https://docs.python.org/3/library/fnmatch.html)\n",
    "fdialog.filter_pattern = ['*.jpg', '*.png', '*.pdf', '*.parquet']\n",
    "fdialog2.filter_pattern = ['*.jpg', '*.png', '*.pdf', '*.parquet']"
   ]
  },
  {
   "cell_type": "code",
   "execution_count": 15,
   "id": "ab6efcd7",
   "metadata": {},
   "outputs": [],
   "source": [
    "# Change the default path and filename\n",
    "#fdialog.default_path = os.path.abspath(os.path.join(os.getcwd(), 'C:\\\\Python310\\\\Scripts\\\\Store\\\\'))\n",
    "#fdialog.default_path = os.path.abspath('.\\Store')\n",
    "fdialog.default_path = 'C:\\\\Store'\n",
    "fdialog.default_filename = 'GCS2023.pdf'"
   ]
  },
  {
   "cell_type": "code",
   "execution_count": 16,
   "id": "1474e08b",
   "metadata": {},
   "outputs": [],
   "source": [
    "# Change the default path and filename\n",
    "#fdialog2.default_path = os.path.abspath(os.path.join(os.getcwd(), 'C:\\\\Python310\\\\Scripts\\\\db\\\\chroma-embeddings\\\\'))\n",
    "#fdialog2.default_path = os.path.abspath('.\\Store')\n",
    "fdialog2.default_path = 'C:\\\\Store'\n",
    "fdialog2.default_filename = 'chroma-embeddings.parquet'"
   ]
  },
  {
   "cell_type": "code",
   "execution_count": 17,
   "id": "384d10f8",
   "metadata": {},
   "outputs": [],
   "source": [
    "# Reset to defaults and clear the selected value\n",
    "#fdialog.reset()\n",
    "#fdialog2.reset()"
   ]
  },
  {
   "cell_type": "code",
   "execution_count": 18,
   "id": "7bcb0b95",
   "metadata": {},
   "outputs": [],
   "source": [
    "#print(fdialog2)"
   ]
  },
  {
   "cell_type": "code",
   "execution_count": 19,
   "id": "f604230b",
   "metadata": {},
   "outputs": [],
   "source": [
    "# String representation\n",
    "#print(fdialog)"
   ]
  },
  {
   "cell_type": "code",
   "execution_count": 20,
   "id": "51f7b8de",
   "metadata": {},
   "outputs": [
    {
     "data": {
      "application/vnd.jupyter.widget-view+json": {
       "model_id": "0146cff215a94aecb3c5dd4cf014957a",
       "version_major": 2,
       "version_minor": 0
      },
      "text/plain": [
       "Label(value='SCAN ALL PDFS IN THE DIRECTORY AND SUBS FROM WORKING TO OUTPUT')"
      ]
     },
     "execution_count": 20,
     "metadata": {},
     "output_type": "execute_result"
    }
   ],
   "source": [
    "#Scan all pdfs in the Directory and subs from working to output\n",
    "widgets.Label(value='SCAN ALL PDFS IN THE DIRECTORY AND SUBS FROM WORKING TO OUTPUT')\n"
   ]
  },
  {
   "cell_type": "code",
   "execution_count": 21,
   "id": "45718660",
   "metadata": {},
   "outputs": [
    {
     "data": {
      "application/vnd.jupyter.widget-view+json": {
       "model_id": "2cc4b9516daf440697d714790b6fabec",
       "version_major": 2,
       "version_minor": 0
      },
      "text/plain": [
       "Button(description='MERGEPDFS', style=ButtonStyle())"
      ]
     },
     "metadata": {},
     "output_type": "display_data"
    },
    {
     "data": {
      "application/vnd.jupyter.widget-view+json": {
       "model_id": "0eab2897ad3848779a058d0c32c5ef38",
       "version_major": 2,
       "version_minor": 0
      },
      "text/plain": [
       "Output()"
      ]
     },
     "metadata": {},
     "output_type": "display_data"
    }
   ],
   "source": [
    "# Import PyPDF2 and os libraries.\n",
    "import PyPDF2, os\n",
    "\n",
    "# Switch back to standard mode\n",
    "\n",
    "# Create a button widget with the label \"MERGEPDFS\".\n",
    "button = widgets.Button(description=\"MERGEPDFS\")\n",
    "\n",
    "# Create an output widget for displaying the result of the button click.\n",
    "output = widgets.Output()\n",
    "\n",
    "# Display the button and output widgets.\n",
    "display(button, output)\n",
    "\n",
    "# Define the function that will be called when the button is clicked.\n",
    "def on_button_clicked(b):\n",
    "    # Clear the output widget.\n",
    "    with output:\n",
    "        print(\"working......\")\n",
    "\n",
    "        # Get all the PDF filenames in the 'C:\\\\Store\\\\working' directory.\n",
    "        pdfFiles = []\n",
    "        for root, dirs, files in os.walk('C:\\\\Store\\\\working'):\n",
    "            for filename in files:\n",
    "                if filename.endswith('.pdf'):\n",
    "                    pdfFiles.append(os.path.join(root, filename))\n",
    "        pdfFiles.sort()\n",
    "\n",
    "        # Create a PDF writer object.\n",
    "#        pdfWriter = PyPDF2.PdfFileWriter()\n",
    "        pdfWriter = PyPDF2.PdfWriter()\n",
    "\n",
    "        # Loop through all the PDF files.\n",
    "        for filename in pdfFiles:\n",
    "            # Open each PDF file in read-binary mode.\n",
    "            pdfFileObj = open(filename, 'rb')\n",
    "            # Create a PDF reader object for the file.\n",
    "            pdfReader = PyPDF2.PdfReader(pdfFileObj)\n",
    "\n",
    "            # Loop through all the pages (except the first) and add them to the PDF writer.\n",
    "            for pageNum in range(1,len(pdfReader.pages)):\n",
    "                pageObj = pdfReader.pages[pageNum]\n",
    "                pdfWriter.add_page(pageObj)\n",
    "\n",
    "            # Close the PDF file object.\n",
    "#           pdfFileObj.close()\n",
    "\n",
    "        # Save the resulting PDF to a file in the 'C:\\\\Store\\\\output' directory.\n",
    "        pdfOutput = open('C:\\\\Store\\\\output\\\\allminutes1.pdf', 'wb')\n",
    "        pdfWriter.write(pdfOutput)\n",
    "        pdfOutput.close()\n",
    "        print(\"Complete!!!\")\n",
    "\n",
    "# Attach the function to the button's click event.\n",
    "button.on_click(on_button_clicked)\n"
   ]
  },
  {
   "cell_type": "code",
   "execution_count": 22,
   "id": "c32d5a24",
   "metadata": {},
   "outputs": [
    {
     "data": {
      "application/vnd.jupyter.widget-view+json": {
       "model_id": "dee3325c4204400cb40983a9976cdb70",
       "version_major": 2,
       "version_minor": 0
      },
      "text/plain": [
       "Label(value='COMBINE ALL PDFS IN THE OUTPUT DIRECTORY INTO 1')"
      ]
     },
     "execution_count": 22,
     "metadata": {},
     "output_type": "execute_result"
    }
   ],
   "source": [
    "widgets.Label(value='COMBINE ALL PDFS IN THE OUTPUT DIRECTORY INTO 1')\n",
    "#COMBINE ALL PDFS IN A DIRECTORY INTO 1"
   ]
  },
  {
   "cell_type": "code",
   "execution_count": 23,
   "id": "577b4853",
   "metadata": {},
   "outputs": [
    {
     "data": {
      "application/vnd.jupyter.widget-view+json": {
       "model_id": "f67b257476b449e6bdec61478ec7143c",
       "version_major": 2,
       "version_minor": 0
      },
      "text/plain": [
       "Button(description='MERGEPDFS', style=ButtonStyle())"
      ]
     },
     "metadata": {},
     "output_type": "display_data"
    },
    {
     "data": {
      "application/vnd.jupyter.widget-view+json": {
       "model_id": "e50ff6a2f9a04dd8a1752286111a93fd",
       "version_major": 2,
       "version_minor": 0
      },
      "text/plain": [
       "Output()"
      ]
     },
     "metadata": {},
     "output_type": "display_data"
    }
   ],
   "source": [
    "import PyPDF2, os\n",
    "from PyPDF2 import PdfReader\n",
    "\n",
    "# Create a button widget with the label \"MERGEPDFS\"\n",
    "button = widgets.Button(description=\"MERGEPDFS\")\n",
    "\n",
    "# Create an output widget for displaying the result of the button click.\n",
    "output = widgets.Output()\n",
    "\n",
    "# Display the button and output widgets.\n",
    "display(button, output)\n",
    "\n",
    "# Define the function that will be called when the button is clicked.\n",
    "def on_button_clicked(b):\n",
    "    # Clear the output widget.\n",
    "    with output:\n",
    "        print(\"working......\")\n",
    "        # Get all the PDF filenames.\n",
    "        pdfFiles = []\n",
    "        for root, dirs, files in os.walk('C:\\\\Store\\\\output'):\n",
    "            for filename in files:\n",
    "                if filename.endswith('.pdf'):\n",
    "                    pdfFiles.append(os.path.join(root, filename))\n",
    "        pdfFiles.sort()\n",
    "\n",
    "        pdfWriter = PyPDF2.PdfWriter()\n",
    "\n",
    "        # Loop through all the PDF files.\n",
    "        for filename in pdfFiles:\n",
    "            pdfFileObj = open(filename, 'rb')\n",
    "            pdfReader = PyPDF2.PdfReader(pdfFileObj)\n",
    "\n",
    "            # Loop through all the pages (except the first) and add them.\n",
    "            for pageNum in range(1, len(pdfReader.pages)):\n",
    "                pageObj = pdfReader.pages[pageNum]\n",
    "                pdfWriter.add_page(pageObj)\n",
    "\n",
    "        # Save the resulting PDF to a file.\n",
    "        pdfOutput = open('C:\\\\Store\\\\output\\\\allminutes.pdf', 'wb')\n",
    "        pdfWriter.write(pdfOutput)\n",
    "        pdfOutput.close()\n",
    "        print(\"Complete!!!\")\n",
    "\n",
    "# Attach the function to the button's click event.\n",
    "button.on_click(on_button_clicked)\n",
    "\n"
   ]
  },
  {
   "cell_type": "code",
   "execution_count": 24,
   "id": "bd38a186",
   "metadata": {},
   "outputs": [
    {
     "data": {
      "application/vnd.jupyter.widget-view+json": {
       "model_id": "34fbded9762d442b9e18057807cff74c",
       "version_major": 2,
       "version_minor": 0
      },
      "text/plain": [
       "Label(value='ALL PDFS INDIRECTORY TO A TEXT FILE IN THE OUTPUT DIRECTORY')"
      ]
     },
     "execution_count": 24,
     "metadata": {},
     "output_type": "execute_result"
    }
   ],
   "source": [
    "widgets.Label(value='ALL PDFS INDIRECTORY TO A TEXT FILE IN THE OUTPUT DIRECTORY')\n",
    "#ALL PDFS INDIRECTORY TO A TEXT FILE IN THE OUTPUT DIRECTORY"
   ]
  },
  {
   "cell_type": "code",
   "execution_count": 25,
   "id": "6b2ede9a",
   "metadata": {},
   "outputs": [
    {
     "data": {
      "application/vnd.jupyter.widget-view+json": {
       "model_id": "304ba8b8dfb24c7283596049c09ea595",
       "version_major": 2,
       "version_minor": 0
      },
      "text/plain": [
       "Button(description='PDFTOTEXT', style=ButtonStyle())"
      ]
     },
     "metadata": {},
     "output_type": "display_data"
    },
    {
     "data": {
      "application/vnd.jupyter.widget-view+json": {
       "model_id": "40a3f8dac6654640b79eacd6026d8591",
       "version_major": 2,
       "version_minor": 0
      },
      "text/plain": [
       "Output()"
      ]
     },
     "metadata": {},
     "output_type": "display_data"
    }
   ],
   "source": [
    "# Import PyPDF2 and os libraries.\n",
    "import PyPDF2, os\n",
    "\n",
    "# Create a button widget with the label \"Pre Embedding Pdf\".\n",
    "button = widgets.Button(description=\"PDFTOTEXT\")\n",
    "\n",
    "# Create an output widget for displaying the result of the button click.\n",
    "output = widgets.Output()\n",
    "\n",
    "# Display the button and output widgets.\n",
    "display(button, output)\n",
    "\n",
    "# Define the function that will be called when the button is clicked.\n",
    "def on_button_clicked(b):\n",
    "    # Clear the output widget.\n",
    "    with output:\n",
    "        # Get the directory path where the PDF files are stored.\n",
    "        pdf_dir = 'C:\\\\Store\\\\output'\n",
    "        print(\"working......\")\n",
    "\n",
    "        # Loop over all the files in the directory.\n",
    "        for filename in os.listdir(pdf_dir):\n",
    "            if filename.endswith('.pdf'):\n",
    "                # Open the PDF file in read binary mode.\n",
    "                pdf_file = open(os.path.join(pdf_dir, filename), 'rb')\n",
    "\n",
    "                # Read the PDF file using PyPDF2.\n",
    "                pdf_reader = PyPDF2.PdfFileReader(pdf_file)\n",
    "\n",
    "                # Initialize an empty string for the extracted text.\n",
    "                text = ''\n",
    "\n",
    "                # Loop over each page in the PDF file and extract the text.\n",
    "                for page_num in range(pdf_reader.getNumPages()):\n",
    "                    page = pdf_reader.getPage(page_num)\n",
    "                    text += page.extractText()\n",
    "\n",
    "                # Generate a new filename for the text file.\n",
    "\n",
    "                # Open a new text file in write mode and write the extracted text.\n",
    "                txt_filename = os.path.splitext(filename)[0] + '.txt'\n",
    "                with open(os.path.join(pdf_dir, txt_filename), 'w', encoding='utf-8') as txt_file:\n",
    "                    txt_file.write(text)\n",
    "\n",
    "                # Close the PDF file.\n",
    "                pdf_file.close()\n",
    "\n",
    "        print(\"Complete!!!\")\n",
    "\n",
    "# Attach the function to the button's click event.\n",
    "button.on_click(on_button_clicked)\n",
    "\n"
   ]
  },
  {
   "cell_type": "code",
   "execution_count": 26,
   "id": "cc2db04f",
   "metadata": {},
   "outputs": [
    {
     "data": {
      "application/vnd.jupyter.widget-view+json": {
       "model_id": "d4dfb26f76ed4cecadb2655426f58c0b",
       "version_major": 2,
       "version_minor": 0
      },
      "text/plain": [
       "Label(value='COPY ALL MP3 FROM WORKING SOURCE TO WORKING')"
      ]
     },
     "execution_count": 26,
     "metadata": {},
     "output_type": "execute_result"
    }
   ],
   "source": [
    "widgets.Label(value='COPY ALL MP3 FROM WORKING SOURCE TO WORKING')\n",
    "#Copy ALL Mp3 From Working Source To Working"
   ]
  },
  {
   "cell_type": "code",
   "execution_count": 27,
   "id": "e3322d28",
   "metadata": {},
   "outputs": [
    {
     "data": {
      "application/vnd.jupyter.widget-view+json": {
       "model_id": "cb111dbe4fa747f88f1a56abe4229ea3",
       "version_major": 2,
       "version_minor": 0
      },
      "text/plain": [
       "Text(value='', description='Source path:')"
      ]
     },
     "metadata": {},
     "output_type": "display_data"
    },
    {
     "data": {
      "application/vnd.jupyter.widget-view+json": {
       "model_id": "6e6a4e8c8bac4dbe88d052300c3e4518",
       "version_major": 2,
       "version_minor": 0
      },
      "text/plain": [
       "Button(description='Copy MP3 files', style=ButtonStyle())"
      ]
     },
     "metadata": {},
     "output_type": "display_data"
    }
   ],
   "source": [
    "# Import the necessary modules\n",
    "import os\n",
    "import shutil\n",
    "import ipywidgets as widgets\n",
    "\n",
    "# Define the destination path for the copied MP3 files\n",
    "destination_path = 'C:\\\\Store\\\\output\\\\'\n",
    "\n",
    "# Define a function to copy MP3 files from the source path to the destination path\n",
    "def copy_mp3_files(source_path):\n",
    "    # Check if the source directory exists\n",
    "    if not os.path.exists(source_path):\n",
    "        print(f\"Directory {source_path} does not exist.\")\n",
    "        return\n",
    "    \n",
    "    # Walk through the directory and its subdirectories to find MP3 files\n",
    "    mp3_files = []\n",
    "    for dirpath, dirnames, filenames in os.walk(source_path):\n",
    "        for filename in filenames:\n",
    "            if filename.endswith('.mp3'):\n",
    "                mp3_files.append(os.path.join(dirpath, filename))\n",
    "\n",
    "    # Copy MP3 files to the destination directory\n",
    "    if not mp3_files:\n",
    "        print(\"No MP3 files found.\")\n",
    "        return\n",
    "    else:\n",
    "        for mp3_file in mp3_files:\n",
    "            shutil.copy(mp3_file, destination_path)\n",
    "\n",
    "    print(f\"Successfully copied {len(mp3_files)} MP3 files to {destination_path}.\")\n",
    "\n",
    "# Display a text widget for the user to input the source path and a button to initiate the MP3 file copying process\n",
    "source_path = widgets.Text(description=\"Source path:\")\n",
    "display(source_path)\n",
    "button_copy = widgets.Button(description=\"Copy MP3 files\")\n",
    "display(button_copy)\n",
    "\n",
    "# Set the button action to copy MP3 files when clicked\n",
    "button_copy.on_click(lambda _: copy_mp3_files(source_path.value))\n",
    "\n",
    "\n"
   ]
  },
  {
   "cell_type": "code",
   "execution_count": 28,
   "id": "465ff1bd",
   "metadata": {},
   "outputs": [
    {
     "data": {
      "application/vnd.jupyter.widget-view+json": {
       "model_id": "e2a42e3a2c3746e8b4823aa136a52b11",
       "version_major": 2,
       "version_minor": 0
      },
      "text/plain": [
       "Label(value='CONVERT ALL TEXT FILES IN DIRECTORY TO PDF')"
      ]
     },
     "execution_count": 28,
     "metadata": {},
     "output_type": "execute_result"
    }
   ],
   "source": [
    "widgets.Label(value='CONVERT ALL TEXT FILES IN DIRECTORY TO PDF')\n",
    "#Convert All Text Files In Directory to PDF"
   ]
  },
  {
   "cell_type": "code",
   "execution_count": 29,
   "id": "739e12f7",
   "metadata": {},
   "outputs": [
    {
     "data": {
      "application/vnd.jupyter.widget-view+json": {
       "model_id": "d16c7caa5cd247789455368f7e890ff6",
       "version_major": 2,
       "version_minor": 0
      },
      "text/plain": [
       "Button(description='TextToPDF', style=ButtonStyle())"
      ]
     },
     "metadata": {},
     "output_type": "display_data"
    },
    {
     "data": {
      "application/vnd.jupyter.widget-view+json": {
       "model_id": "d80b0ba9a1f8479f8761ca1383ca86e7",
       "version_major": 2,
       "version_minor": 0
      },
      "text/plain": [
       "Output()"
      ]
     },
     "metadata": {},
     "output_type": "display_data"
    }
   ],
   "source": [
    "import os\n",
    "import re\n",
    "from fpdf import FPDF\n",
    "import ipywidgets as widgets\n",
    "\n",
    "button = widgets.Button(description=\"TextToPDF\")\n",
    "output = widgets.Output()\n",
    "\n",
    "display(button, output)\n",
    "\n",
    "def on_button_clicked(b):\n",
    "    with output:\n",
    "        # Create a new PDF document\n",
    "        pdf = FPDF()\n",
    "\n",
    "        # Loop over all files in the directory 'c:\\\\Store\\\\output'\n",
    "        for file_name in os.listdir('c:\\\\Store\\\\output'):\n",
    "            # Select only files with the extension '.txt'\n",
    "            if file_name.endswith('.txt'):\n",
    "                # Open the file in read mode with the 'utf-8' encoding\n",
    "                with open(os.path.join('c:\\\\Store\\\\output', file_name), 'r', encoding='utf-8') as f:\n",
    "                    # Read the entire file into a string\n",
    "                    text = f.read()\n",
    "\n",
    "                    # Remove exotic special characters\n",
    "                    text = re.sub(r'[^\\w\\s]+', '', text)\n",
    "\n",
    "                    # Add a new page to the PDF document\n",
    "                    pdf.add_page()\n",
    "\n",
    "                    # Set the font and font size\n",
    "                    pdf.set_font('Arial', 'B', 16)\n",
    "\n",
    "                    # Add the text to the PDF document\n",
    "                    pdf.multi_cell(0, 10, text)\n",
    "\n",
    "                    # Save the PDF document to a file with the same name as the input file\n",
    "                    pdf.output(os.path.join('c:\\\\Store\\\\output', os.path.splitext(file_name)[0] + '.pdf'), 'F')\n",
    "\n",
    "                    # Reset the PDF document for the next file\n",
    "                    pdf = FPDF()\n",
    "\n",
    "button.on_click(on_button_clicked)\n"
   ]
  },
  {
   "cell_type": "code",
   "execution_count": null,
   "id": "7aee2c17",
   "metadata": {},
   "outputs": [],
   "source": [
    "\n"
   ]
  },
  {
   "cell_type": "code",
   "execution_count": 30,
   "id": "6d4b5ba1",
   "metadata": {},
   "outputs": [
    {
     "data": {
      "application/vnd.jupyter.widget-view+json": {
       "model_id": "49cfd06d92cc491fb95652bd66a9a618",
       "version_major": 2,
       "version_minor": 0
      },
      "text/plain": [
       "Label(value='$$$ OPENAI WHISPER TRANSCRIBE ALL THE MP3 SMALLER FILES IN THE OUTPUT DIRECTORY')"
      ]
     },
     "execution_count": 30,
     "metadata": {},
     "output_type": "execute_result"
    }
   ],
   "source": [
    "widgets.Label(value='$$$ OPENAI WHISPER TRANSCRIBE ALL THE MP3 SMALLER FILES IN THE OUTPUT DIRECTORY')\n",
    "#TRANSCRIBE ALL THE MP3 SMALLER FILES IN THE OUTPUT DIRECTORY"
   ]
  },
  {
   "cell_type": "code",
   "execution_count": 31,
   "id": "ddd645da",
   "metadata": {},
   "outputs": [
    {
     "data": {
      "application/vnd.jupyter.widget-view+json": {
       "model_id": "7ab0859a811c454899a06b867b5afdee",
       "version_major": 2,
       "version_minor": 0
      },
      "text/plain": [
       "Button(description='TRANSCRIBE', style=ButtonStyle())"
      ]
     },
     "metadata": {},
     "output_type": "display_data"
    },
    {
     "data": {
      "application/vnd.jupyter.widget-view+json": {
       "model_id": "a3f770d85a204cb7a53b5c854f4a4b22",
       "version_major": 2,
       "version_minor": 0
      },
      "text/plain": [
       "Output()"
      ]
     },
     "metadata": {},
     "output_type": "display_data"
    }
   ],
   "source": [
    "import openai\n",
    "import os\n",
    "\n",
    "# Set the OpenAI API key\n",
    "openai.api_key = key\n",
    "\n",
    "# Create a button and an output widget for the notebook UI\n",
    "button = widgets.Button(description=\"TRANSCRIBE\")\n",
    "output = widgets.Output()\n",
    "\n",
    "# Display the button and output widgets\n",
    "display(button, output)\n",
    "\n",
    "# Define the function to run when the button is clicked\n",
    "def on_button_clicked(b):\n",
    "    with output:\n",
    "        # Get all the MP3 filenames from the C:\\\\Store directory.\n",
    "        mp3_files = []\n",
    "        print(\"working......\")\n",
    "        \n",
    "        for filename in os.listdir('C:\\\\Store\\\\output'):\n",
    "            if filename.endswith('.mp3'):\n",
    "                mp3_files.append(filename)\n",
    "\n",
    "        # Loop through all the MP3 files and transcribe them.\n",
    "        for mp3_file in mp3_files:\n",
    "            # Open the MP3 file in read binary mode\n",
    "            audio_file = open(os.path.join('C:\\\\Store\\\\output', mp3_file), 'rb')\n",
    "\n",
    "            # Transcribe the audio file using OpenAI's Audio API\n",
    "            transcript = openai.Audio.transcribe(\"whisper-1\", audio_file)\n",
    "\n",
    "            # Save the transcript to a text file with the same name as the MP3 file\n",
    "            with open(os.path.join('C:\\\\Store\\\\output', mp3_file.replace('.mp3', '') + '_transcript.txt'), 'w') as f:\n",
    "                f.write(transcript.text)\n",
    "\n",
    "            # Print a message indicating that the transcription was saved\n",
    "            print(f\"Transcription saved for {mp3_file}.\")\n",
    "    \n",
    "# Set the button action to transcribe MP3 files when clicked\n",
    "button.on_click(on_button_clicked)\n"
   ]
  },
  {
   "cell_type": "code",
   "execution_count": 32,
   "id": "8308adae",
   "metadata": {},
   "outputs": [
    {
     "name": "stdout",
     "output_type": "stream",
     "text": [
      "{None}\n",
      "{None}\n",
      "None\n",
      "None\n"
     ]
    }
   ],
   "source": [
    "#PARQUET ALL THE PAST TEXT LAST\n",
    "a=fdialog.selected\n",
    "b=fdialog2.selected\n",
    "c = print({a})\n",
    "d = print({b})\n",
    "h = print(a)\n",
    "i = print(b)"
   ]
  },
  {
   "cell_type": "code",
   "execution_count": 33,
   "id": "31103009",
   "metadata": {},
   "outputs": [
    {
     "data": {
      "application/vnd.jupyter.widget-view+json": {
       "model_id": "1463fcaa51324679a84b55def3580001",
       "version_major": 2,
       "version_minor": 0
      },
      "text/plain": [
       "Label(value='SELECT A PDF FIRST!!! EMBED ALL TEXT WITH OPENAI EMBEDDINGS')"
      ]
     },
     "execution_count": 33,
     "metadata": {},
     "output_type": "execute_result"
    }
   ],
   "source": [
    "widgets.Label(value='SELECT A PDF FIRST!!! EMBED ALL TEXT WITH OPENAI EMBEDDINGS')\n",
    "#Embed all text with openai embeddings"
   ]
  },
  {
   "cell_type": "code",
   "execution_count": 34,
   "id": "88edcf79",
   "metadata": {},
   "outputs": [
    {
     "data": {
      "application/vnd.jupyter.widget-view+json": {
       "model_id": "3be5b58abe51464f9d75ad1befc6bba3",
       "version_major": 2,
       "version_minor": 0
      },
      "text/plain": [
       "FileChooser(path='C:\\Store', filename='GCS2023.pdf', title='<b>Select the output file</b>', show_hidden=True, …"
      ]
     },
     "metadata": {},
     "output_type": "display_data"
    }
   ],
   "source": [
    "display(fdialog)\n"
   ]
  },
  {
   "cell_type": "code",
   "execution_count": 35,
   "id": "f1945890",
   "metadata": {},
   "outputs": [
    {
     "data": {
      "application/vnd.jupyter.widget-view+json": {
       "model_id": "799c8309a7ab44cdab2fbabf408875f7",
       "version_major": 2,
       "version_minor": 0
      },
      "text/plain": [
       "Button(description='EMBEDSELPDF', style=ButtonStyle())"
      ]
     },
     "metadata": {},
     "output_type": "display_data"
    },
    {
     "data": {
      "application/vnd.jupyter.widget-view+json": {
       "model_id": "60fb6747d8964c808a9537df1d5a1d15",
       "version_major": 2,
       "version_minor": 0
      },
      "text/plain": [
       "Output()"
      ]
     },
     "metadata": {},
     "output_type": "display_data"
    },
    {
     "name": "stdout",
     "output_type": "stream",
     "text": [
      "Complete!!!\n"
     ]
    }
   ],
   "source": [
    "ui1_button = widgets.Button(description=\"EMBEDSELPDF\") # Create a button widget with the label \"Run Embedding\"\n",
    "ui1_output = widgets.Output() # Create an output widget to display the output of the function\n",
    "\n",
    "display(ui1_button, ui1_output) # Display the button and output widgets\n",
    "\n",
    "def ui1_on_button_clicked(b):\n",
    "    with ui1_output: # Redirect output to the output widget\n",
    "        a=fdialog.selected # Get the selected file path from a file dialog widget\n",
    "        b=fdialog2.selected # Get the selected file path from another file dialog widget\n",
    "        c = print({a}) # Print the selected file path to the console\n",
    "        d = print({b}) # Print the selected file path to the console\n",
    "        h = print(a) # Print the selected file path to the console\n",
    "        i = print(b) # Print the selected file path to the console\n",
    "        loader = PyPDFLoader(a) # Load the PDF document using PyPDFLoader\n",
    "        data = loader.load() # Load the PDF document data\n",
    "        print(\"working......\") # Print \"working......\" to the console\n",
    "        print(f'You have {len(data)} document(s) in your data') # Print the number of documents in the PDF document to the console\n",
    "        print(f'There are {len(data[0].page_content)} characters in your document') # Print the number of characters in the first document of the PDF document to the console\n",
    "        text_splitter = RecursiveCharacterTextSplitter(chunk_size=1000, chunk_overlap=200) # Initialize a RecursiveCharacterTextSplitter object with a chunk size of 1000 and no overlap\n",
    "        texts = text_splitter.split_documents(data) # Split the documents into texts\n",
    "        print(f'Now you have {len(texts)} documents') # Print the number of texts to the console\n",
    "        persist_directory = 'C:\\\\Store\\\\output' # Set the persistent storage directory\n",
    "        embeddings = OpenAIEmbeddings(openai_api_key=key) # Initialize an OpenAIEmbeddings object with an OpenAI API key\n",
    "        vectordb = Chroma.from_documents(documents=texts, embedding=embeddings, persist_directory=persist_directory) # Create a VectorStore from the texts and embeddings\n",
    "        vectordb.persist() # Persist the vectorstore\n",
    "        llm = OpenAI(temperature=0, openai_api_key=key) # Initialize an OpenAI object with an OpenAI API key and temperature of 0\n",
    "        chain = load_qa_chain(llm, chain_type=\"stuff\") # Load a QA chain\n",
    "        global model # Declare the model variable as global\n",
    "        model = VectorDBQA.from_chain_type(llm=llm, chain_type=\"stuff\", vectorstore=vectordb) # Initialize a VectorDBQA object with the OpenAI object, the chain type, and the vectorstore\n",
    "        name = widgets.Text(placeholder='Embedding query statement') # Create a text widget with a placeholder of 'Embedding query statement'\n",
    "\n",
    "print(\"Complete!!!\") # Print \"Complete!!!\" to the console\n",
    "\n",
    "ui1_button.on_click(ui1_on_button_clicked) # Set the button action to execute the ui1_on_button_clicked function when clicked\n"
   ]
  },
  {
   "cell_type": "code",
   "execution_count": 36,
   "id": "7e024ad1",
   "metadata": {},
   "outputs": [],
   "source": [
    "#ui1_name = widgets.Text(placeholder='Embedding query statement')\n",
    "\n",
    "ui1_name = Textarea(\n",
    "    placeholder='Type something',\n",
    "    description='Query:',\n",
    "    layout={'height': '200px', 'width': '450px'}\n",
    ")\n",
    "\n",
    "\n",
    "ui1_button_send = widgets.Button(\n",
    "                    description='Query PDF Embedding',\n",
    "                    tooltip='Send',\n",
    "                    style={'description_width': 'initial'}\n",
    ")\n",
    "\n",
    "ui1_output1 = widgets.Output()\n",
    "\n",
    "def ui1_on_button_clicked2(event):\n",
    "    with ui1_output1:\n",
    "        clear_output()\n",
    "        print(\"Query Result: \")\n",
    "        print(f\"{model.run(ui1_name.value)}\")\n",
    "        \n",
    "        \n",
    "ui1_button_send.on_click(ui1_on_button_clicked2)  # Attach the click event after defining the button\n",
    "\n",
    "#ui1_vbox_result = widgets.VBox([ui1_button_send, ui1_output2])\n",
    "ui1_vbox_result = widgets.VBox([ui1_button_send, ui1_output1])\n"
   ]
  },
  {
   "cell_type": "code",
   "execution_count": 37,
   "id": "1bff15a2",
   "metadata": {},
   "outputs": [],
   "source": [
    "# stacked right hand side\n",
    "\n",
    "ui1_vbox_text = widgets.VBox([ui1_name, ui1_vbox_result])\n"
   ]
  },
  {
   "cell_type": "code",
   "execution_count": 38,
   "id": "0cd9f629",
   "metadata": {},
   "outputs": [
    {
     "data": {
      "application/vnd.jupyter.widget-view+json": {
       "model_id": "416aba91880d4277a71f41de648386ef",
       "version_major": 2,
       "version_minor": 0
      },
      "text/plain": [
       "VBox(children=(VBox(children=(Textarea(value='', description='Query:', layout=Layout(height='200px', width='45…"
      ]
     },
     "metadata": {},
     "output_type": "display_data"
    }
   ],
   "source": [
    "ui1_page = widgets.VBox([ui1_vbox_text])\n",
    "display(ui1_page)"
   ]
  },
  {
   "cell_type": "code",
   "execution_count": null,
   "id": "a1d0d01e",
   "metadata": {},
   "outputs": [],
   "source": []
  },
  {
   "cell_type": "code",
   "execution_count": 39,
   "id": "7d67e4ae",
   "metadata": {},
   "outputs": [
    {
     "data": {
      "application/vnd.jupyter.widget-view+json": {
       "model_id": "96a8f134f4df49948ee94163bfede976",
       "version_major": 2,
       "version_minor": 0
      },
      "text/plain": [
       "Label(value='TEXT ACCUMULATOR')"
      ]
     },
     "execution_count": 39,
     "metadata": {},
     "output_type": "execute_result"
    }
   ],
   "source": [
    "widgets.Label(value='TEXT ACCUMULATOR')\n",
    "#TEXT TO TEXT - ACCUMULATOR"
   ]
  },
  {
   "cell_type": "code",
   "execution_count": 40,
   "id": "742a0fc5",
   "metadata": {},
   "outputs": [
    {
     "data": {
      "application/vnd.jupyter.widget-view+json": {
       "model_id": "d206d9fd474f444988cd41881e13de84",
       "version_major": 2,
       "version_minor": 0
      },
      "text/plain": [
       "Button(description='TEXT ACCUMULATOR', style=ButtonStyle())"
      ]
     },
     "metadata": {},
     "output_type": "display_data"
    },
    {
     "data": {
      "application/vnd.jupyter.widget-view+json": {
       "model_id": "5b712f8bd7fa4feb94e5c35e935ae9e9",
       "version_major": 2,
       "version_minor": 0
      },
      "text/plain": [
       "Output()"
      ]
     },
     "metadata": {},
     "output_type": "display_data"
    }
   ],
   "source": [
    "import os\n",
    "import ipywidgets as widgets\n",
    "\n",
    "\n",
    "button = widgets.Button(description=\"TEXT ACCUMULATOR\")\n",
    "output = widgets.Output()\n",
    "\n",
    "display(button, output)\n",
    "\n",
    "def on_button_clicked(b):\n",
    "    directory = \"C:\\\\Store\\\\output\\\\\"\n",
    "    output_file = \"allminutes.txt\"\n",
    "\n",
    "    # Accumulate the contents of all text files in the directory\n",
    "    data = \"\"\n",
    "    for filename in os.listdir(directory):\n",
    "        if filename.endswith(\".txt\"):\n",
    "            filepath = os.path.join(directory, filename)\n",
    "            with open(filepath, encoding='utf-8') as fp:\n",
    "                data += fp.read()\n",
    "\n",
    "    # Write the accumulated data to the output file\n",
    "    with open(os.path.join(directory, output_file), \"w\", encoding='utf-8') as fp:\n",
    "        fp.write(data)\n",
    "\n",
    "button.on_click(on_button_clicked)"
   ]
  },
  {
   "cell_type": "code",
   "execution_count": null,
   "id": "567d24a3",
   "metadata": {},
   "outputs": [],
   "source": []
  },
  {
   "cell_type": "code",
   "execution_count": 41,
   "id": "36ee5e5f",
   "metadata": {},
   "outputs": [
    {
     "data": {
      "application/vnd.jupyter.widget-view+json": {
       "model_id": "9047048c42704c98a5f6b2adf072a505",
       "version_major": 2,
       "version_minor": 0
      },
      "text/plain": [
       "Label(value='EMBED BIG TEXT BLOB!!!')"
      ]
     },
     "execution_count": 41,
     "metadata": {},
     "output_type": "execute_result"
    }
   ],
   "source": [
    "#Embedd some docs\n",
    "widgets.Label(value='EMBED BIG TEXT BLOB!!!')\n",
    "\n",
    "# stacked right hand side\n",
    "\n",
    "#ui1_vbox_text = widgets.VBox([ui1_name, ui1_vbox_result])\n"
   ]
  },
  {
   "cell_type": "code",
   "execution_count": 42,
   "id": "a80c9fff",
   "metadata": {},
   "outputs": [],
   "source": [
    "#ui1_page = widgets.VBox([ui1_vbox_text])\n",
    "#display(ui1_page)"
   ]
  },
  {
   "cell_type": "code",
   "execution_count": 43,
   "id": "974e2839",
   "metadata": {
    "scrolled": true
   },
   "outputs": [
    {
     "data": {
      "application/vnd.jupyter.widget-view+json": {
       "model_id": "0ecc448464b44deeaea5c545cb88c2f0",
       "version_major": 2,
       "version_minor": 0
      },
      "text/plain": [
       "Button(description='EMBED TXT BLOB', style=ButtonStyle())"
      ]
     },
     "metadata": {},
     "output_type": "display_data"
    },
    {
     "data": {
      "application/vnd.jupyter.widget-view+json": {
       "model_id": "c47ceb94c5174a63be3781a2f238469e",
       "version_major": 2,
       "version_minor": 0
      },
      "text/plain": [
       "Output()"
      ]
     },
     "metadata": {},
     "output_type": "display_data"
    }
   ],
   "source": [
    "ui2_button = widgets.Button(description=\"EMBED TXT BLOB\")  # Create a button widget with the label \"Run Embedding\"\n",
    "ui2_output = widgets.Output()  # Create an output widget to display the results of running the embedding\n",
    "\n",
    "display(ui2_button, ui2_output)  # Display the button and output widgets\n",
    "\n",
    "def ui2_on_button_clicked(b):\n",
    "    print(\"working......\")  # Display a message to indicate that the function is working\n",
    "    \n",
    "    with ui2_output:  # Redirect the output of the function to the output widget\n",
    "        # Load all text files in the directory 'C:\\\\Store\\\\output' recursively\n",
    "        loader = DirectoryLoader('C:\\\\Store\\\\output', glob='2020FLBC.txt')\n",
    "        documents = loader.load()\n",
    "        print(\"working......\")  # Display a message to indicate that the function is working\n",
    "        # Split the text of the documents into smaller chunks for efficient processing\n",
    "        text_splitter = CharacterTextSplitter(chunk_size=3000, chunk_overlap=0)\n",
    "        texts = text_splitter.split_documents(documents)\n",
    "        persist_directory = 'C:\\\\Store\\\\output'  # Define the directory to persist the embeddings\n",
    "        # Create embeddings for the texts using OpenAI's language model and store them in a vector database\n",
    "#        embeddings = OpenAIEmbeddings(openai_api_key=os.environ['OPENAI_API_KEY'])\n",
    "        embeddings = OpenAIEmbeddings(openai_api_key=key)\n",
    "        docsearch = Chroma.from_documents(texts, embeddings, persist_directory=persist_directory)\n",
    "        docsearch.persist()  # Persist the vector database\n",
    "        print(\"Running Chroma using direct local API.\")  # Display a message to indicate the status of the function\n",
    "        print(\"Using DuckDB in-memory for database. Data will be transient.\")  # Display another message to indicate the status of the function\n",
    "        global qa\n",
    "        print(\"Complete!!!\")  # Display a message to indicate that the function has completed\n",
    "        # Create a vector database-based question answering system using OpenAI's language model and the vector database\n",
    "        qa = VectorDBQA.from_chain_type(llm=OpenAI(), chain_type=\"stuff\", vectorstore=docsearch)\n",
    "\n",
    "        name = widgets.Text(placeholder='Embedding query statement')  # Create a text input widget for the user to input their query\n",
    "        \n",
    "        \n",
    "        parquet_file = r'C:\\\\Store\\\\output\\\\chroma-embeddings.parquet'\n",
    "        embeddings = pd.read_parquet(parquet_file, engine='auto')\n",
    "        print(embeddings)\n",
    "    \n",
    "\n",
    "\n",
    "ui2_button.on_click(ui2_on_button_clicked)  # Set the button's action to run the embedding when clicked\n",
    "\n"
   ]
  },
  {
   "cell_type": "code",
   "execution_count": 44,
   "id": "8f07ef74",
   "metadata": {},
   "outputs": [],
   "source": [
    "#Query Some Docs - Selecte a Parquet\n",
    "widgets.Label(value='Query Some Docs')\n",
    "\n",
    "ui2_name = widgets.Text(placeholder='Embedding query statement')"
   ]
  },
  {
   "cell_type": "code",
   "execution_count": 45,
   "id": "d23609a3",
   "metadata": {},
   "outputs": [],
   "source": [
    "# Create a textarea widget for user to enter the query\n",
    "ui2_name = Textarea(\n",
    "    placeholder='Type something',\n",
    "    description='Query:',\n",
    "    layout={'height': '200px', 'width': '450px'}\n",
    ")\n",
    "\n",
    "# Create a button widget to send the query\n",
    "ui2_button_send = widgets.Button(\n",
    "    description='Queryt Text Embedding',\n",
    "    tooltip='Send',\n",
    "    style={'description_width': 'initial'}\n",
    ")\n",
    "\n",
    "# Create an output widget to display the query result\n",
    "ui2_output2 = widgets.Output()\n",
    "\n",
    "# Define a function to handle the click event of the \"Query Embedding\" button\n",
    "def ui2_on_button_clicked2(event):\n",
    "    with ui2_output2:\n",
    "        clear_output() # Clear the output area before displaying the result\n",
    "        print(\"Query Result: \")\n",
    "        print(f\"{qa.run(ui2_name.value)}\")  # Use the user's query to run the VectorDBQA and display the result\n",
    "\n",
    "# Attach the click event to the \"Query Embedding\" button\n",
    "ui2_button_send.on_click(ui2_on_button_clicked2)\n",
    "\n",
    "# Create a VBox widget to display the \"Query Embedding\" button and the output area\n",
    "ui2_vbox_result = widgets.VBox([ui2_button_send, ui2_output2])\n",
    "\n",
    "\n"
   ]
  },
  {
   "cell_type": "code",
   "execution_count": 46,
   "id": "dbab3d3e",
   "metadata": {},
   "outputs": [],
   "source": [
    "# Create a new VBox widget containing ui2_button_send and ui2_output2 widgets\n",
    "ui2_vbox_result = widgets.VBox([ui2_button_send, ui2_output2])\n"
   ]
  },
  {
   "cell_type": "code",
   "execution_count": 47,
   "id": "9370a76b",
   "metadata": {
    "scrolled": true
   },
   "outputs": [
    {
     "data": {
      "application/vnd.jupyter.widget-view+json": {
       "model_id": "1c0cf42b36484cc5b09ca4e6fecabff2",
       "version_major": 2,
       "version_minor": 0
      },
      "text/plain": [
       "HBox(children=(Textarea(value='', description='Query:', layout=Layout(height='200px', width='450px'), placehol…"
      ]
     },
     "metadata": {},
     "output_type": "display_data"
    }
   ],
   "source": [
    "ui2_page = widgets.HBox([ui2_name, ui2_vbox_result])\n",
    "display(ui2_page)\n"
   ]
  },
  {
   "cell_type": "code",
   "execution_count": 48,
   "id": "e0cc0c7c",
   "metadata": {},
   "outputs": [
    {
     "data": {
      "application/vnd.jupyter.widget-view+json": {
       "model_id": "5c9c89a0c2a641179c6f97b3f45432a9",
       "version_major": 2,
       "version_minor": 0
      },
      "text/plain": [
       "Button(description=\"DON'TPRESSBROKE!!!\", style=ButtonStyle())"
      ]
     },
     "metadata": {},
     "output_type": "display_data"
    },
    {
     "data": {
      "application/vnd.jupyter.widget-view+json": {
       "model_id": "7320c72451314ae8bb8dec02a0aaff8c",
       "version_major": 2,
       "version_minor": 0
      },
      "text/plain": [
       "Output()"
      ]
     },
     "metadata": {},
     "output_type": "display_data"
    },
    {
     "name": "stdout",
     "output_type": "stream",
     "text": [
      "Complete!!!\n"
     ]
    }
   ],
   "source": [
    "\n",
    "a = fdialog.selected\n",
    "f = fdialog2.selected or 'C:\\\\Store\\\\working\\\\'\n",
    "\n",
    "#c = print({a})\n",
    "#d = print({f})\n",
    "#h = print(a)\n",
    "#i = print(f)\n",
    "\n",
    "loader = DirectoryLoader(f, glob='**/*.txt')\n",
    "documents = loader.load()\n",
    "\n",
    "ui2_button = widgets.Button(description=\"DON'TPRESSBROKE!!!\")\n",
    "ui2_output = widgets.Output()\n",
    "\n",
    "display(ui2_button, ui2_output)\n",
    "\n",
    "def ui2_on_button_clicked(b):\n",
    "    with ui2_output:\n",
    "        # loader = PyPDFLoader('C:\\\\Python310\\\\Scripts\\\\Store\\\\GCS2023.pdf')\n",
    "        loader = DirectoryLoader(f, glob='**/*.txt')\n",
    "        documents = loader.load()\n",
    "        print(\"working......\")\n",
    "        text_splitter = CharacterTextSplitter(chunk_size=3000, chunk_overlap=0)\n",
    "        texts = text_splitter.split_documents(documents)\n",
    "        persist_directory = 'C:\\\\Store\\\\output'\n",
    "        embeddings = OpenAIEmbeddings(openai_api_key=key)\n",
    "        docsearch = Chroma.from_documents(texts, embeddings, persist_directory=persist_directory)\n",
    "        docsearch.persist()\n",
    "        embeddings = OpenAIEmbeddings(openai_api_key=key)\n",
    "        docsearch = Chroma.from_documents(texts, embeddings)\n",
    "        print(\"Running Chroma using direct local API.\")\n",
    "        print(\"Using DuckDB in-memory for database. Data will be transient.\")\n",
    "        global qa\n",
    "        qa = VectorDBQA.from_chain_type(llm=OpenAI(), chain_type=\"stuff\", vectorstore=docsearch)\n",
    "\n",
    "        \n",
    "        query = \"Florida Statue\"\n",
    "        result = qa.run(query)\n",
    "        print(result)\n",
    "        name = widgets.Text(placeholder='Embedding query statement') \n",
    "        \n",
    "        import pandas as pd\n",
    "\n",
    "        parquet_file = r'C:\\\\Store\\\\output\\\\chroma-embeddings.parquet'\n",
    "        embeddings = pd.read_parquet(parquet_file, engine='auto')\n",
    "\n",
    "        print(embeddings)\n",
    "        \n",
    "    \n",
    "    \n",
    "        \n",
    "print(\"Complete!!!\")       \n",
    "\n",
    "ui2_button.on_click(ui2_on_button_clicked)"
   ]
  },
  {
   "cell_type": "markdown",
   "id": "b803e8e4",
   "metadata": {},
   "source": []
  },
  {
   "cell_type": "code",
   "execution_count": null,
   "id": "98c6812b",
   "metadata": {},
   "outputs": [],
   "source": []
  },
  {
   "cell_type": "code",
   "execution_count": 49,
   "id": "afa40ef8",
   "metadata": {},
   "outputs": [],
   "source": [
    "import os\n",
    "\n",
    "# Create the directories if they don't exist\n",
    "if not os.path.exists(\"C:\\\\Store\\\\working\"):\n",
    "    os.makedirs(\"C:\\\\Store\\\\working\")\n",
    "if not os.path.exists(\"C:\\\\Store\\\\output\"):\n",
    "    os.makedirs(\"C:\\\\Store\\\\output\")\n"
   ]
  },
  {
   "cell_type": "code",
   "execution_count": 50,
   "id": "b8ae16a2",
   "metadata": {},
   "outputs": [
    {
     "data": {
      "application/vnd.jupyter.widget-view+json": {
       "model_id": "0254f41ec2df4568b5254aa619a6eb52",
       "version_major": 2,
       "version_minor": 0
      },
      "text/plain": [
       "Label(value='CONVERT WAVE TO TEXT')"
      ]
     },
     "execution_count": 50,
     "metadata": {},
     "output_type": "execute_result"
    }
   ],
   "source": [
    "# Convert MP3 TO WAVE\n",
    "widgets.Label(value='CONVERT WAVE TO TEXT')"
   ]
  },
  {
   "cell_type": "code",
   "execution_count": 53,
   "id": "5c5d6416",
   "metadata": {},
   "outputs": [
    {
     "data": {
      "application/vnd.jupyter.widget-view+json": {
       "model_id": "317775d705054c278fc18de34b48e4c2",
       "version_major": 2,
       "version_minor": 0
      },
      "text/plain": [
       "Button(description='TRANS WAVTOTXT', style=ButtonStyle())"
      ]
     },
     "metadata": {},
     "output_type": "display_data"
    },
    {
     "data": {
      "application/vnd.jupyter.widget-view+json": {
       "model_id": "348389f31e554cfe94ec47d1c42b2304",
       "version_major": 2,
       "version_minor": 0
      },
      "text/plain": [
       "Output()"
      ]
     },
     "metadata": {},
     "output_type": "display_data"
    }
   ],
   "source": [
    "import speech_recognition as sr\n",
    "import os\n",
    "from pydub import AudioSegment\n",
    "from pydub.silence import split_on_silence\n",
    "import ipywidgets as widgets\n",
    "from IPython.display import display\n",
    "\n",
    "# Create a button and an output widget for the notebook UI\n",
    "button = widgets.Button(description=\"TRANS WAVTOTXT\")\n",
    "output = widgets.Output()\n",
    "\n",
    "# Display the button and output widgets\n",
    "display(button, output)\n",
    "\n",
    "# Create a speech recognition object\n",
    "r = sr.Recognizer()\n",
    "\n",
    "def transcribe_large_audio(path):\n",
    "    \"\"\"Split audio into chunks and apply speech recognition\"\"\"\n",
    "    # Open audio file with pydub\n",
    "    sound = AudioSegment.from_wav(path)\n",
    "    # Split audio where silence is 700ms or greater and get chunks\n",
    "    chunks = split_on_silence(sound, min_silence_len=700, silence_thresh=sound.dBFS-14, keep_silence=700)\n",
    "    \n",
    "    # Create folder to store audio chunks\n",
    "    folder_name = \"audio-chunks\"\n",
    "    if not os.path.isdir(folder_name):\n",
    "        os.mkdir(folder_name)\n",
    "    \n",
    "    whole_text = \"\"\n",
    "    consecutive_failures = 0\n",
    "    # Process each chunk\n",
    "    for i, audio_chunk in enumerate(chunks, start=1):\n",
    "        # Export chunk and save in folder\n",
    "        chunk_filename = os.path.join(folder_name, f\"chunk{i}.wav\")\n",
    "        audio_chunk.export(chunk_filename, format=\"wav\")\n",
    "        # Recognize chunk\n",
    "        with sr.WavFile(chunk_filename) as source:\n",
    "            audio_listened = r.listen(source)\n",
    "            # Convert to text\n",
    "            try:\n",
    "                text = r.recognize(audio_listened)\n",
    "            except:\n",
    "                consecutive_failures += 1\n",
    "                if consecutive_failures == 5:\n",
    "                    print(f\"Skipping {path} due to too many errors\")\n",
    "                    break\n",
    "            else:\n",
    "                consecutive_failures = 0\n",
    "                text = f\"{text.capitalize()}. \"\n",
    "                print(chunk_filename, \":\", text)\n",
    "                whole_text += text\n",
    "    # Return text for all chunks\n",
    "    return whole_text\n",
    "\n",
    "def on_button_clicked(b):\n",
    "    with output:\n",
    "        output_directory = \"C:\\\\Store\\\\output\"\n",
    "        os.makedirs(output_directory, exist_ok=True)\n",
    "        processed_files = []\n",
    "\n",
    "        # Loop through all .wav files in the directory\n",
    "        with open(os.path.join(output_directory, 'result.txt'), 'w') as result_file:\n",
    "            for file in os.listdir(output_directory):\n",
    "                if file.endswith(\".wav\") and file not in processed_files:\n",
    "                    wav_file_path = os.path.join(output_directory, file)\n",
    "                    print(f\"Processing {wav_file_path}\")\n",
    "                    try:\n",
    "                        result = transcribe_large_audio(wav_file_path)\n",
    "                    except LookupError as e:\n",
    "                        print(f\"Skipping {wav_file_path} due to error: {e}\")\n",
    "                        continue\n",
    "                    else:\n",
    "                        print(result)\n",
    "                        # Write the result to a file with the same name as the audio file\n",
    "                        text_file_path = os.path.join(output_directory, f\"{os.path.splitext(file)[0]}.txt\")\n",
    "                        with open(text_file_path, 'w') as text_file:\n",
    "                            text_file.write(result)\n",
    "                        print(f\"Transcription saved to {text_file_path}\")\n",
    "                        print(result, file=result_file)\n",
    "                        processed_files.append(file)\n",
    "\n",
    "button.on_click(on_button_clicked)"
   ]
  },
  {
   "cell_type": "code",
   "execution_count": null,
   "id": "88d1c18b",
   "metadata": {},
   "outputs": [],
   "source": []
  },
  {
   "cell_type": "code",
   "execution_count": null,
   "id": "3f3950fb",
   "metadata": {},
   "outputs": [],
   "source": [
    "# Convert Wave To Text Files\n",
    "widgets.Label(value='CONVERT WAVE TO TEXT FILES')"
   ]
  },
  {
   "cell_type": "code",
   "execution_count": null,
   "id": "ad6b93f6",
   "metadata": {},
   "outputs": [],
   "source": [
    "# Import libraries\n",
    "import speech_recognition as sr\n",
    "import os\n",
    "from pydub import AudioSegment\n",
    "from pydub.silence import split_on_silence\n",
    "import ipywidgets as widgets\n",
    "from IPython.display import display\n",
    "\n",
    "# Create a button and an output widget for the notebook UI\n",
    "button = widgets.Button(description=\"TRANS WAVTOTXT\")\n",
    "output = widgets.Output()\n",
    "\n",
    "# Display the button and output widgets\n",
    "display(button, output)\n",
    "\n",
    "# Create a speech recognition object\n",
    "r = sr.Recognizer()\n",
    "\n",
    "def transcribe_large_audio(path):\n",
    "    \"\"\"Split audio into chunks and apply speech recognition\"\"\"\n",
    "    # Open audio file with pydub\n",
    "    sound = AudioSegment.from_wav(path)\n",
    "    # Split audio where silence is 700ms or greater and get chunks\n",
    "    chunks = split_on_silence(sound, min_silence_len=700, silence_thresh=sound.dBFS-14, keep_silence=700)\n",
    "    \n",
    "    # Create folder to store audio chunks\n",
    "    folder_name = \"audio-chunks\"\n",
    "    if not os.path.isdir(folder_name):\n",
    "        os.mkdir(folder_name)\n",
    "    \n",
    "    whole_text = \"\"\n",
    "    # Process each chunk\n",
    "    for i, audio_chunk in enumerate(chunks, start=1):\n",
    "        # Export chunk and save in folder\n",
    "        chunk_filename = os.path.join(folder_name, f\"chunk{i}.wav\")\n",
    "        audio_chunk.export(chunk_filename, format=\"wav\")\n",
    "        # Recognize chunk\n",
    "        with sr.AudioFile(chunk_filename) as source:\n",
    "            audio_listened = r.record(source)\n",
    "            # Convert to text\n",
    "            try:\n",
    "                text = r.recognize_google(audio_listened)\n",
    "            except sr.UnknownValueError as e:\n",
    "                print(\"Error:\", str(e))\n",
    "            else:\n",
    "                text = f\"{text.capitalize()}. \"\n",
    "                print(chunk_filename, \":\", text)\n",
    "                whole_text += text\n",
    "    # Return text for all chunks\n",
    "    return whole_text\n",
    "\n",
    "def on_button_clicked(b):\n",
    "    with output:\n",
    "        output_directory = \"C:\\\\Store\\\\output\"\n",
    "        os.makedirs(output_directory, exist_ok=True)\n",
    "\n",
    "        # Loop through all .wav files in the directory\n",
    "        with open(os.path.join(output_directory, 'result.txt'), 'w') as result_file:\n",
    "            for file in os.listdir(output_directory):\n",
    "                if file.endswith(\".wav\"):\n",
    "                    wav_file_path = os.path.join(output_directory, file)\n",
    "                    print(f\"Processing {wav_file_path}\")\n",
    "                    result = transcribe_large_audio(wav_file_path)\n",
    "                    print(result)\n",
    "                    print(result, file=result_file)\n",
    "\n",
    "button.on_click(on_button_clicked)\n"
   ]
  },
  {
   "cell_type": "code",
   "execution_count": null,
   "id": "deead574",
   "metadata": {},
   "outputs": [],
   "source": [
    "# Convert MP3 TO WAVE\n",
    "widgets.Label(value='# Convert MP3 TO WAVE')"
   ]
  },
  {
   "cell_type": "code",
   "execution_count": null,
   "id": "25efaee0",
   "metadata": {},
   "outputs": [],
   "source": [
    "import os\n",
    "from pydub import AudioSegment\n",
    "import ipywidgets as widgets\n",
    "import os\n",
    "from pydub import AudioSegment\n",
    "import glob\n",
    "\n",
    "\n",
    "\n",
    "# Create a button and an output widget for the notebook UI\n",
    "button = widgets.Button(description=\"MP3 TO WAV\")\n",
    "output = widgets.Output()\n",
    "\n",
    "# Display the button and output widgets\n",
    "display(button, output)\n",
    "\n",
    "# set the input and output directories\n",
    "input_dir = 'c:\\\\Store\\\\output\\\\'\n",
    "output_dir = 'c:\\\\Store\\\\output\\\\'\n",
    "\n",
    "# loop through all files in the input directory\n",
    "for file_name in os.listdir(input_dir):\n",
    "    if file_name.endswith('.mp3'):\n",
    "        # construct the full input and output file paths\n",
    "        input_path = os.path.join(input_dir, file_name)\n",
    "        output_path = os.path.join(output_dir, file_name.replace('.mp3', '.wav'))\n",
    "\n",
    "        # convert mp3 file to wav file\n",
    "        sound = AudioSegment.from_mp3(input_path)\n",
    "        sound.export(output_path, format=\"wav\")\n",
    "        \n",
    "button.on_click(on_button_clicked)\n"
   ]
  },
  {
   "cell_type": "code",
   "execution_count": null,
   "id": "70476d2e",
   "metadata": {},
   "outputs": [],
   "source": []
  },
  {
   "cell_type": "code",
   "execution_count": null,
   "id": "05b59cf3",
   "metadata": {},
   "outputs": [],
   "source": [
    "# Convert MP3 TO FLAC\n",
    "widgets.Label(value=' CONVERT MP3 TO FLAC')"
   ]
  },
  {
   "cell_type": "code",
   "execution_count": null,
   "id": "1749cf45",
   "metadata": {},
   "outputs": [],
   "source": [
    "import os\n",
    "from os.path import splitext\n",
    "from pydub import AudioSegment\n",
    "\n",
    "# Create a button and an output widget for the notebook UI\n",
    "button = widgets.Button(description=\"TRANS MP3TOFLAC\")\n",
    "output = widgets.Output()\n",
    "\n",
    "# Display the button and output widgets\n",
    "display(button, output)\n",
    "\n",
    "def mp3_to_flac(mp3_path):\n",
    "    flac_path = \"%s.flac\" % splitext(mp3_path)[0]\n",
    "    song = AudioSegment.from_mp3(mp3_path)\n",
    "    song.export(flac_path, format = \"flac\")\n",
    "\n",
    "# set the input and output directories\n",
    "input_dir = 'c:\\\\Store\\\\output\\\\'\n",
    "output_dir = 'c:\\\\Store\\\\output\\\\'\n",
    "\n",
    "# loop through all files in the input directory\n",
    "for file_name in os.listdir(input_dir):\n",
    "    if file_name.endswith('.mp3'):\n",
    "        # construct the full input and output file paths\n",
    "        input_path = os.path.join(input_dir, file_name)\n",
    "        output_path = os.path.join(output_dir, file_name.replace('.mp3', '.flac'))\n",
    "\n",
    "        # convert mp3 file to flac file\n",
    "        mp3_to_flac(input_path)\n",
    "button.on_click(on_button_clicked)\n"
   ]
  },
  {
   "cell_type": "code",
   "execution_count": null,
   "id": "6d019587",
   "metadata": {},
   "outputs": [],
   "source": []
  },
  {
   "cell_type": "code",
   "execution_count": null,
   "id": "f253d04e",
   "metadata": {},
   "outputs": [],
   "source": [
    "# Import libraries\n",
    "import speech_recognition as sr\n",
    "import os\n",
    "from pydub import AudioSegment\n",
    "from pydub.silence import split_on_silence\n",
    "import ipywidgets as widgets\n",
    "from IPython.display import display\n",
    "\n",
    "# Create a button and an output widget for the notebook UI\n",
    "button = widgets.Button(description=\"TRANS WAVTOTXT\")\n",
    "output = widgets.Output()\n",
    "\n",
    "# Display the button and output widgets\n",
    "display(button, output)\n",
    "\n",
    "# Create a speech recognition object\n",
    "r = sr.Recognizer()\n",
    "\n",
    "def transcribe_large_audio(path):\n",
    "    \"\"\"Split audio into chunks and apply speech recognition\"\"\"\n",
    "    # Open audio file with pydub\n",
    "    sound = AudioSegment.from_wav(path)\n",
    "    # Split audio where silence is 700ms or greater and get chunks\n",
    "    chunks = split_on_silence(sound, min_silence_len=700, silence_thresh=sound.dBFS-14, keep_silence=700)\n",
    "    \n",
    "    # Create folder to store audio chunks\n",
    "    folder_name = \"audio-chunks\"\n",
    "    if not os.path.isdir(folder_name):\n",
    "        os.mkdir(folder_name)\n",
    "    \n",
    "    whole_text = \"\"\n",
    "    # Process each chunk\n",
    "    for i, audio_chunk in enumerate(chunks, start=1):\n",
    "        # Export chunk and save in folder\n",
    "        chunk_filename = os.path.join(folder_name, f\"chunk{i}.wav\")\n",
    "        audio_chunk.export(chunk_filename, format=\"wav\")\n",
    "        # Recognize chunk\n",
    "        with sr.WavFile(chunk_filename) as source:\n",
    "            #audio_listened = r.record(source)\n",
    "            audio_listened = r.listen(source)\n",
    "            # Convert to text\n",
    "            try:\n",
    "                text = r.recognize_google(audio_listened)\n",
    "            except sr.UnknownValueError as e:\n",
    "                print(\"Error:\", str(e))\n",
    "            else:\n",
    "                text = f\"{text.capitalize()}. \"\n",
    "                print(chunk_filename, \":\", text)\n",
    "                whole_text += text\n",
    "    # Return text for all chunks\n",
    "    return whole_text\n",
    "\n",
    "def on_button_clicked(b):\n",
    "    with output:\n",
    "        output_directory = \"C:\\\\Store\\\\output\"\n",
    "        os.makedirs(output_directory, exist_ok=True)\n",
    "\n",
    "        # Loop through all .wav files in the directory\n",
    "        with open(os.path.join(output_directory, 'result.txt'), 'w') as result_file:\n",
    "            for file in os.listdir(output_directory):\n",
    "                if file.endswith(\".wav\"):\n",
    "                    wav_file_path = os.path.join(output_directory, file)\n",
    "                    print(f\"Processing {wav_file_path}\")\n",
    "                    result = transcribe_large_audio(wav_file_path)\n",
    "                    print(result)\n",
    "                    # Write the result to a file with the same name as the audio file\n",
    "                    text_file_path = os.path.join(output_directory, f\"{os.path.splitext(file)[0]}.txt\")\n",
    "                    with open(text_file_path, 'w') as text_file:\n",
    "                        text_file.write(result)\n",
    "                    print(f\"Transcription saved to {text_file_path}\")\n",
    "                    print(result, file=result_file)\n",
    "\n",
    "button.on_click(on_button_clicked)\n"
   ]
  },
  {
   "cell_type": "code",
   "execution_count": null,
   "id": "9265c86c",
   "metadata": {},
   "outputs": [],
   "source": []
  },
  {
   "cell_type": "code",
   "execution_count": null,
   "id": "ef543e14",
   "metadata": {},
   "outputs": [],
   "source": [
    "# Convert Wave To Text Files\n",
    "widgets.Label(value='Convert Wave To Text Files')"
   ]
  },
  {
   "cell_type": "code",
   "execution_count": null,
   "id": "ca3e4310",
   "metadata": {},
   "outputs": [],
   "source": [
    "import speech_recognition as sr\n",
    "import os\n",
    "from pydub import AudioSegment\n",
    "from pydub.silence import split_on_silence\n",
    "import ipywidgets as widgets\n",
    "from IPython.display import display\n",
    "\n",
    "# Create a button and an output widget for the notebook UI\n",
    "button = widgets.Button(description=\"TRANS WAVTOTXT\")\n",
    "output = widgets.Output()\n",
    "\n",
    "# Display the button and output widgets\n",
    "display(button, output)\n",
    "\n",
    "# Create a speech recognition object\n",
    "r = sr.Recognizer()\n",
    "\n",
    "def transcribe_large_audio(path):\n",
    "    \"\"\"Split audio into chunks and apply speech recognition\"\"\"\n",
    "    # Open audio file with pydub\n",
    "    sound = AudioSegment.from_wav(path)\n",
    "    # Split audio where silence is 700ms or greater and get chunks\n",
    "    chunks = split_on_silence(sound, min_silence_len=700, silence_thresh=sound.dBFS-14, keep_silence=700)\n",
    "    \n",
    "    # Create folder to store audio chunks\n",
    "    folder_name = \"audio-chunks\"\n",
    "    if not os.path.isdir(folder_name):\n",
    "        os.mkdir(folder_name)\n",
    "    \n",
    "    whole_text = \"\"\n",
    "    consecutive_failures = 0\n",
    "    # Process each chunk\n",
    "    for i, audio_chunk in enumerate(chunks, start=1):\n",
    "        # Export chunk and save in folder\n",
    "        chunk_filename = os.path.join(folder_name, f\"chunk{i}.wav\")\n",
    "        audio_chunk.export(chunk_filename, format=\"wav\")\n",
    "        # Recognize chunk\n",
    "        with sr.WavFile(chunk_filename) as source:\n",
    "            audio_listened = r.listen(source)\n",
    "            # Convert to text\n",
    "            try:\n",
    "                text = r.recognize(audio_listened)\n",
    "            except:\n",
    "                consecutive_failures += 1\n",
    "                if consecutive_failures == 5:\n",
    "                    print(f\"Skipping {path} due to too many errors\")\n",
    "                    break\n",
    "            else:\n",
    "                consecutive_failures = 0\n",
    "                text = f\"{text.capitalize()}. \"\n",
    "                print(chunk_filename, \":\", text)\n",
    "                whole_text += text\n",
    "    # Return text for all chunks\n",
    "    return whole_text\n",
    "\n",
    "def on_button_clicked(b):\n",
    "    with output:\n",
    "        output_directory = \"C:\\\\Store\\\\output\"\n",
    "        os.makedirs(output_directory, exist_ok=True)\n",
    "        processed_files = []\n",
    "\n",
    "        # Loop through all .wav files in the directory\n",
    "        with open(os.path.join(output_directory, 'result.txt'), 'w') as result_file:\n",
    "            for file in os.listdir(output_directory):\n",
    "                if file.endswith(\".wav\") and file not in processed_files:\n",
    "                    wav_file_path = os.path.join(output_directory, file)\n",
    "                    print(f\"Processing {wav_file_path}\")\n",
    "                    try:\n",
    "                        result = transcribe_large_audio(wav_file_path)\n",
    "                    except LookupError as e:\n",
    "                        print(f\"Skipping {wav_file_path} due to error: {e}\")\n",
    "                        continue\n",
    "                    else:\n",
    "                        print(result)\n",
    "                        # Write the result to a file with the same name as the audio file\n",
    "                        text_file_path = os.path.join(output_directory, f\"{os.path.splitext(file)[0]}.txt\")\n",
    "                        with open(text_file_path, 'w') as text_file:\n",
    "                            text_file.write(result)\n",
    "                        print(f\"Transcription saved to {text_file_path}\")\n",
    "                        print(result, file=result_file)\n",
    "                        processed_files.append(file)\n",
    "\n",
    "button.on_click(on_button_clicked)\n"
   ]
  },
  {
   "cell_type": "code",
   "execution_count": null,
   "id": "1bfc3bfd",
   "metadata": {},
   "outputs": [],
   "source": [
    "widgets.Label(value='TEXT TO PDF - PRESERVE PUNCTUATION')\n",
    "#TEXT TO PDF - PRESERVE PUNCTUATION"
   ]
  },
  {
   "cell_type": "code",
   "execution_count": null,
   "id": "35f08c9a",
   "metadata": {},
   "outputs": [],
   "source": [
    "import os\n",
    "import re\n",
    "from fpdf import FPDF\n",
    "import ipywidgets as widgets\n",
    "\n",
    "button = widgets.Button(description=\"TextToPDF\")\n",
    "output = widgets.Output()\n",
    "\n",
    "display(button, output)\n",
    "\n",
    "def on_button_clicked(b):\n",
    "    with output:\n",
    "        # Create a new PDF document\n",
    "        pdf = FPDF()\n",
    "\n",
    "        # Loop over all files in the directory 'c:\\\\Store\\\\output'\n",
    "        for file_name in os.listdir('c:\\\\Store\\\\output'):\n",
    "            # Select only files with the extension '.txt'\n",
    "            if file_name.endswith('.txt'):\n",
    "                # Open the file in read mode with the 'utf-8' encoding\n",
    "                with open(os.path.join('c:\\\\Store\\\\output', file_name), 'r', encoding='utf-8') as f:\n",
    "                    # Read the entire file into a string\n",
    "                    text = f.read()\n",
    "\n",
    "                    # Remove special characters except for US standard punctuation marks\n",
    "                    text = re.sub(r'[^\\w\\s.,!?]+', '', text)\n",
    "\n",
    "                    # Add a new page to the PDF document\n",
    "                    pdf.add_page()\n",
    "\n",
    "                    # Set the font and font size\n",
    "                    pdf.set_font('Arial', 'B', 16)\n",
    "\n",
    "                    # Add the text to the PDF document\n",
    "                    pdf.multi_cell(0, 10, text)\n",
    "\n",
    "                    # Save the PDF document to a file with the same name as the input file\n",
    "                    pdf.output(os.path.join('c:\\\\Store\\\\output', os.path.splitext(file_name)[0] + '.pdf'), 'F')\n",
    "\n",
    "        # Reset the PDF document for the next file\n",
    "        pdf = FPDF()\n",
    "\n",
    "button.on_click(on_button_clicked)\n"
   ]
  },
  {
   "cell_type": "code",
   "execution_count": null,
   "id": "8bac9bf0",
   "metadata": {},
   "outputs": [],
   "source": [
    "pip freeze > requirements.txt"
   ]
  },
  {
   "cell_type": "code",
   "execution_count": null,
   "id": "f14ca127",
   "metadata": {},
   "outputs": [],
   "source": []
  },
  {
   "cell_type": "code",
   "execution_count": null,
   "id": "fdf9ac0b",
   "metadata": {},
   "outputs": [],
   "source": []
  },
  {
   "cell_type": "code",
   "execution_count": null,
   "id": "dbd12e96",
   "metadata": {},
   "outputs": [],
   "source": []
  },
  {
   "cell_type": "code",
   "execution_count": null,
   "id": "546a25a6",
   "metadata": {},
   "outputs": [],
   "source": []
  }
 ],
 "metadata": {
  "kernelspec": {
   "display_name": "Python 3 (ipykernel)",
   "language": "python",
   "name": "python3"
  },
  "language_info": {
   "codemirror_mode": {
    "name": "ipython",
    "version": 3
   },
   "file_extension": ".py",
   "mimetype": "text/x-python",
   "name": "python",
   "nbconvert_exporter": "python",
   "pygments_lexer": "ipython3",
   "version": "3.10.10"
  }
 },
 "nbformat": 4,
 "nbformat_minor": 5
}
